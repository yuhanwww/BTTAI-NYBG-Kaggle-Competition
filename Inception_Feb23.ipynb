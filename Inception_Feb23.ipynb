{
  "cells": [
    {
      "cell_type": "markdown",
      "metadata": {
        "id": "rnn9xG7-meE2"
      },
      "source": [
        "# CSC 370 Portfolio Exercise #2\n",
        "\n",
        "**Plant Image Classification**\n",
        "\n",
        "Inecption network. This version implements the Inception v3 architecture that is built in from tensorflow.\n",
        "\n",
        "Dataset is private from the Kaggle BTTAI x NYBG competition platform.\n"
      ]
    },
    {
      "cell_type": "code",
      "execution_count": null,
      "metadata": {
        "id": "nCX0R6a3k2N7"
      },
      "outputs": [],
      "source": [
        "import os\n",
        "import pandas as pd\n",
        "import numpy as np\n",
        "import matplotlib.pyplot as plt"
      ]
    },
    {
      "cell_type": "markdown",
      "metadata": {
        "id": "wuVhEMw5lW9k"
      },
      "source": [
        "## Import Data"
      ]
    },
    {
      "cell_type": "code",
      "execution_count": null,
      "metadata": {
        "id": "LYxHw3MEh5Oh",
        "colab": {
          "base_uri": "https://localhost:8080/"
        },
        "outputId": "2c2e4c35-9e9c-47b8-f7fa-17029b91fac2"
      },
      "outputs": [
        {
          "output_type": "stream",
          "name": "stdout",
          "text": [
            "mkdir: cannot create directory ‘/root/.kaggle’: File exists\n"
          ]
        }
      ],
      "source": [
        "# create folder for data\n",
        "!mkdir ~/.kaggle\n",
        "!mv kaggle.json ~/.kaggle/\n",
        "!chmod 600 ~/.kaggle/kaggle.json"
      ]
    },
    {
      "cell_type": "code",
      "execution_count": null,
      "metadata": {
        "colab": {
          "base_uri": "https://localhost:8080/"
        },
        "id": "DFlBQGUTiaM5",
        "outputId": "7694bce1-3541-4667-c6fe-0e84ff1e3418"
      },
      "outputs": [
        {
          "output_type": "stream",
          "name": "stdout",
          "text": [
            "Downloading bttai-nybg-2024.zip to /content\n",
            "100% 27.6G/27.7G [04:34<00:00, 126MB/s]\n",
            "100% 27.7G/27.7G [04:34<00:00, 108MB/s]\n"
          ]
        }
      ],
      "source": [
        "# download data\n",
        "!kaggle competitions download -c bttai-nybg-2024"
      ]
    },
    {
      "cell_type": "code",
      "execution_count": null,
      "metadata": {
        "id": "-rbLqeRMh7eA"
      },
      "outputs": [],
      "source": [
        "# unzip file into folder|\n",
        "!unzip \"/content/bttai-nybg-2024.zip\" -d \"/content/bttai-nybg-2024\""
      ]
    },
    {
      "cell_type": "markdown",
      "metadata": {
        "id": "e_m9iqfQld2e"
      },
      "source": [
        "## Make Dataset"
      ]
    },
    {
      "cell_type": "code",
      "execution_count": null,
      "metadata": {
        "id": "KAPP5ous6OCv"
      },
      "outputs": [],
      "source": [
        "import tensorflow as tf"
      ]
    },
    {
      "cell_type": "code",
      "execution_count": null,
      "metadata": {
        "id": "_WNVpvDEmUHa"
      },
      "outputs": [],
      "source": [
        "# Load dataset & Define image directory\n",
        "train_df = pd.read_csv('/content/bttai-nybg-2024/BTTAIxNYBG-train.csv')\n",
        "validate_df = pd.read_csv('/content/bttai-nybg-2024/BTTAIxNYBG-validation.csv')"
      ]
    },
    {
      "cell_type": "code",
      "execution_count": null,
      "metadata": {
        "id": "Ahnb6RUezNfB"
      },
      "outputs": [],
      "source": [
        "# Data augmentation configuration for training\n",
        "train_datagen = tf.keras.preprocessing.image.ImageDataGenerator(\n",
        "    rescale=1./255,\n",
        "    rotation_range=40,\n",
        "    width_shift_range=0.2,\n",
        "    height_shift_range=0.2,\n",
        "    shear_range=0.2,\n",
        "    zoom_range=0.2,\n",
        "    horizontal_flip=True,\n",
        "    fill_mode='nearest')"
      ]
    },
    {
      "cell_type": "code",
      "execution_count": null,
      "metadata": {
        "colab": {
          "base_uri": "https://localhost:8080/"
        },
        "id": "7NylmX0o-xcx",
        "outputId": "9a2ad820-6df0-4500-c29d-df2f9bf0623f"
      },
      "outputs": [
        {
          "output_type": "stream",
          "name": "stdout",
          "text": [
            "Found 81946 validated image filenames belonging to 10 classes.\n"
          ]
        }
      ],
      "source": [
        "# Convert dataframe to a dataset better for model feeding\n",
        "image_directory = 'bttai-nybg-2024/BTTAIxNYBG-train/BTTAIxNYBG-train'\n",
        "train_ds = train_datagen.flow_from_dataframe(\n",
        "        dataframe=train_df,\n",
        "        directory=image_directory,\n",
        "        x_col='imageFile',\n",
        "        y_col='classLabel',\n",
        "        target_size=(224, 224),\n",
        "        batch_size=32,\n",
        "        class_mode='categorical')"
      ]
    },
    {
      "cell_type": "code",
      "execution_count": null,
      "metadata": {
        "id": "H-XOEuzZpE2E"
      },
      "outputs": [],
      "source": [
        "# Validation image only needs rescaling as image preprocessing\n",
        "validation_datagen = tf.keras.preprocessing.image.ImageDataGenerator(rescale=1./255)"
      ]
    },
    {
      "cell_type": "code",
      "execution_count": null,
      "metadata": {
        "colab": {
          "base_uri": "https://localhost:8080/"
        },
        "id": "MsEOp7vDz_vL",
        "outputId": "bdfeb370-09a9-4685-e38b-78ffd5ebcdc3"
      },
      "outputs": [
        {
          "output_type": "stream",
          "name": "stdout",
          "text": [
            "Found 10244 validated image filenames belonging to 10 classes.\n"
          ]
        }
      ],
      "source": [
        "image_directory = 'bttai-nybg-2024/BTTAIxNYBG-validation/BTTAIxNYBG-validation'\n",
        "val_ds= validation_datagen.flow_from_dataframe(\n",
        "        dataframe=validate_df,\n",
        "        directory=image_directory,\n",
        "        x_col='imageFile',\n",
        "        y_col='classLabel',\n",
        "        target_size=(224, 224),\n",
        "        batch_size=32,\n",
        "        class_mode='categorical')"
      ]
    },
    {
      "cell_type": "markdown",
      "metadata": {
        "id": "6kWsseNNwzjj"
      },
      "source": [
        "## Model Building"
      ]
    },
    {
      "cell_type": "markdown",
      "metadata": {
        "id": "TxgPaH2fc_h1"
      },
      "source": [
        "Reference: https://www.tensorflow.org/tutorials/images/cnn"
      ]
    },
    {
      "cell_type": "code",
      "execution_count": null,
      "metadata": {
        "id": "jEwemHmXci-O"
      },
      "outputs": [],
      "source": [
        "import keras\n",
        "from keras.models import Sequential\n",
        "\n",
        "from keras import layers\n",
        "from keras.layers import Dense, Flatten, Dropout\n",
        "\n",
        "from sklearn.metrics import confusion_matrix\n",
        "import seaborn as sns"
      ]
    },
    {
      "cell_type": "code",
      "source": [
        "inception = tf.keras.applications.inception_v3.InceptionV3(\n",
        "    include_top=True,\n",
        "    weights=None,\n",
        "    input_tensor=None,\n",
        "    input_shape=None,\n",
        "    pooling=None,\n",
        "    classes=10,\n",
        "    classifier_activation='softmax'\n",
        ")"
      ],
      "metadata": {
        "id": "RsiGm3YT418u"
      },
      "execution_count": null,
      "outputs": []
    },
    {
      "cell_type": "code",
      "execution_count": null,
      "metadata": {
        "id": "vRaUjJgseUHB"
      },
      "outputs": [],
      "source": [
        "inception.compile(optimizer='adam',\n",
        "              loss=tf.keras.losses.CategoricalCrossentropy(from_logits=True),\n",
        "              metrics=['accuracy'])"
      ]
    },
    {
      "cell_type": "code",
      "execution_count": null,
      "metadata": {
        "id": "MmKPV1xElUTz"
      },
      "outputs": [],
      "source": [
        "inception.summary()\n",
        "# keras.utils.plot_model(model_basic, show_shapes=True)"
      ]
    },
    {
      "cell_type": "markdown",
      "metadata": {
        "id": "6mnwOk1nmOoz"
      },
      "source": [
        "## Model Training"
      ]
    },
    {
      "cell_type": "code",
      "source": [
        "checkpoint_path = \"training/cp.ckpt\"\n",
        "checkpoint_dir = os.path.dirname(checkpoint_path)\n",
        "\n",
        "# Create a callback that saves the model's weights\n",
        "cp_callback = tf.keras.callbacks.ModelCheckpoint(filepath=checkpoint_path)"
      ],
      "metadata": {
        "id": "0tdKmJlyP3Iy"
      },
      "execution_count": null,
      "outputs": []
    },
    {
      "cell_type": "code",
      "execution_count": null,
      "metadata": {
        "id": "UdjvTlLieLbi"
      },
      "outputs": [],
      "source": [
        "history_inception = inception.fit(train_ds, epochs=10, validation_data=val_ds,callbak=[cp_callback])"
      ]
    },
    {
      "cell_type": "code",
      "execution_count": null,
      "metadata": {
        "id": "X_dIjy6Yc8T4"
      },
      "outputs": [],
      "source": [
        "# set current model and current model name for visualization\n",
        "curr_model = inception\n",
        "curr_model_name = 'Inception'\n",
        "# curr_model = alexNet\n",
        "# curr_model_name = 'AlexNet'"
      ]
    },
    {
      "cell_type": "code",
      "execution_count": null,
      "metadata": {
        "id": "o7Kf-fUudLEj"
      },
      "outputs": [],
      "source": [
        "# Plot out training accuracy and lost\n",
        "curr_history = history_inception\n",
        "\n",
        "acc = curr_history.history['accuracy']\n",
        "val_acc = curr_history.history['val_accuracy']\n",
        "\n",
        "loss = curr_history.history['loss']\n",
        "val_loss = curr_history.history['val_loss']\n",
        "\n",
        "epochs_range = range(10)\n",
        "\n",
        "plt.figure(figsize=(10, 7.5))\n",
        "plt.subplot(1, 2, 1)\n",
        "plt.plot(epochs_range, acc, label='Training Accuracy')\n",
        "plt.plot(epochs_range, val_acc, label='Validation Accuracy')\n",
        "plt.legend(loc='lower right')\n",
        "plt.title(curr_model_name+' Training and Validation Accuracy')\n",
        "\n",
        "plt.subplot(1, 2, 2)\n",
        "plt.plot(epochs_range, loss, label='Training Loss')\n",
        "plt.plot(epochs_range, val_loss, label='Validation Loss')\n",
        "plt.legend(loc='upper right')\n",
        "plt.title(curr_model_name +' Training and Validation Loss')\n",
        "plt.show()"
      ]
    },
    {
      "cell_type": "markdown",
      "metadata": {
        "id": "qzRsFolM4Brm"
      },
      "source": [
        "## Test"
      ]
    },
    {
      "cell_type": "code",
      "execution_count": null,
      "metadata": {
        "id": "fY9wmulTeHxm"
      },
      "outputs": [],
      "source": [
        "test_df = pd.read_csv('/content/bttai-nybg-2024/BTTAIxNYBG-test.csv')"
      ]
    },
    {
      "cell_type": "code",
      "execution_count": null,
      "metadata": {
        "id": "saAdOdazfs54"
      },
      "outputs": [],
      "source": [
        "image_directory = 'bttai-nybg-2024/BTTAIxNYBG-test/BTTAIxNYBG-test'\n",
        "test_ds= validation_datagen.flow_from_dataframe(\n",
        "        dataframe=test_df,\n",
        "        directory=image_directory,\n",
        "        x_col='imageFile',\n",
        "        y_col=None,\n",
        "        target_size=(224, 224),\n",
        "        shuffle=False,\n",
        "        class_mode=None)"
      ]
    },
    {
      "cell_type": "code",
      "execution_count": null,
      "metadata": {
        "id": "bAZSQobzWIyl"
      },
      "outputs": [],
      "source": [
        "test_ds.reset() # to make sure all goes within sequence\n",
        "test_preds = inception.predict(test_ds)\n",
        "test_pred_class = [np.argmax(test_pred) for test_pred in test_preds]"
      ]
    },
    {
      "cell_type": "code",
      "source": [
        "test_df['classID'] = test_pred_class"
      ],
      "metadata": {
        "id": "MJau_qf6EuLN"
      },
      "execution_count": null,
      "outputs": []
    },
    {
      "cell_type": "code",
      "execution_count": null,
      "metadata": {
        "id": "d8yAmJqz2oyo"
      },
      "outputs": [],
      "source": [
        "submission = test_df[['uniqueID', 'classID']]"
      ]
    },
    {
      "cell_type": "code",
      "execution_count": null,
      "metadata": {
        "id": "TOymcq6m3Op1"
      },
      "outputs": [],
      "source": [
        "submission.to_csv('submission.csv',index=False)"
      ]
    }
  ],
  "metadata": {
    "colab": {
      "provenance": []
    },
    "kernelspec": {
      "display_name": "Python 3",
      "name": "python3"
    },
    "language_info": {
      "name": "python"
    }
  },
  "nbformat": 4,
  "nbformat_minor": 0
}